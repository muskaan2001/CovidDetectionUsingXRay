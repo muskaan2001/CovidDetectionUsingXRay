{
 "cells": [
  {
   "cell_type": "code",
   "execution_count": 1,
   "id": "8126715c",
   "metadata": {},
   "outputs": [],
   "source": [
    "import cv2, os"
   ]
  },
  {
   "cell_type": "code",
   "execution_count": 2,
   "id": "5916ce02",
   "metadata": {},
   "outputs": [
    {
     "name": "stdout",
     "output_type": "stream",
     "text": [
      "{'COVID NEGATIVE': 0, 'COVID POSITIVE': 1}\n",
      "['COVID NEGATIVE', 'COVID POSITIVE']\n",
      "[0, 1]\n"
     ]
    }
   ],
   "source": [
    "data_path = \"C:/Users/muska/OneDrive/Documents/COVID DETECTION/COVID_DATA\"\n",
    "categories = os.listdir(data_path)\n",
    "labels = [i for i in range(len(categories))]\n",
    "label_dict = dict(zip(categories, labels))\n",
    "print(label_dict)\n",
    "print(categories)\n",
    "print(labels)"
   ]
  },
  {
   "cell_type": "code",
   "execution_count": 3,
   "id": "a408a2fe",
   "metadata": {},
   "outputs": [],
   "source": [
    "data = []\n",
    "target = []\n",
    "for category in categories:\n",
    "    folder_path = os.path.join(data_path, category)\n",
    "    img_names = os.listdir(folder_path)\n",
    "    for img_name in img_names:\n",
    "        img_path = os.path.join(folder_path, img_name)\n",
    "        img = cv2.imread(img_path)\n",
    "        try: \n",
    "            gray = cv2.cvtColor(img, cv2.COLOR_BGR2GRAY)\n",
    "            resized = cv2.resize(gray, (120, 120))\n",
    "            data.append(resized)\n",
    "            target.append(label_dict[category])\n",
    "        except Exception as e:\n",
    "            print(e)        "
   ]
  },
  {
   "cell_type": "code",
   "execution_count": 4,
   "id": "e6bf64ae",
   "metadata": {},
   "outputs": [],
   "source": [
    "import numpy as np\n",
    "data = np.array(data)/255.0\n",
    "data = np.reshape(data, (data.shape[0], 120, 120, 1))\n",
    "target = np.array(target)"
   ]
  },
  {
   "cell_type": "code",
   "execution_count": 5,
   "id": "c2233b66",
   "metadata": {},
   "outputs": [],
   "source": [
    "from keras.utils import np_utils \n",
    "new_target = np_utils.to_categorical(target)"
   ]
  },
  {
   "cell_type": "code",
   "execution_count": 6,
   "id": "a8b40ede",
   "metadata": {},
   "outputs": [],
   "source": [
    "np.save('data4', data)\n",
    "np.save('target4', new_target)"
   ]
  },
  {
   "cell_type": "code",
   "execution_count": 7,
   "id": "729eaf0c",
   "metadata": {},
   "outputs": [],
   "source": [
    "data = np.load('data4.npy')\n",
    "target = np.load('target4.npy')"
   ]
  },
  {
   "cell_type": "code",
   "execution_count": 8,
   "id": "d9f63458",
   "metadata": {},
   "outputs": [],
   "source": [
    "import keras"
   ]
  },
  {
   "cell_type": "code",
   "execution_count": 9,
   "id": "5eb38d14",
   "metadata": {},
   "outputs": [],
   "source": [
    "from keras.models import Sequential, Model\n",
    "from keras.layers import Dense, Dropout, Flatten\n",
    "from keras.layers import Conv2D, Activation, MaxPooling2D\n",
    "from keras.utils.np_utils import normalize\n",
    "from keras.layers import Concatenate \n",
    "from keras import Input\n",
    "from keras.callbacks import ModelCheckpoint"
   ]
  },
  {
   "cell_type": "code",
   "execution_count": 10,
   "id": "d78af74b",
   "metadata": {},
   "outputs": [
    {
     "name": "stdout",
     "output_type": "stream",
     "text": [
      "Model: \"sequential\"\n",
      "_________________________________________________________________\n",
      "Layer (type)                 Output Shape              Param #   \n",
      "=================================================================\n",
      "model (Functional)           (None, 120, 120, 384)     11008     \n",
      "_________________________________________________________________\n",
      "conv2d_3 (Conv2D)            (None, 118, 118, 64)      221248    \n",
      "_________________________________________________________________\n",
      "activation (Activation)      (None, 118, 118, 64)      0         \n",
      "_________________________________________________________________\n",
      "max_pooling2d (MaxPooling2D) (None, 59, 59, 64)        0         \n",
      "_________________________________________________________________\n",
      "flatten (Flatten)            (None, 222784)            0         \n",
      "_________________________________________________________________\n",
      "dropout (Dropout)            (None, 222784)            0         \n",
      "_________________________________________________________________\n",
      "dense (Dense)                (None, 128)               28516480  \n",
      "_________________________________________________________________\n",
      "dropout_1 (Dropout)          (None, 128)               0         \n",
      "_________________________________________________________________\n",
      "dense_1 (Dense)              (None, 64)                8256      \n",
      "_________________________________________________________________\n",
      "dropout_2 (Dropout)          (None, 64)                0         \n",
      "_________________________________________________________________\n",
      "dense_2 (Dense)              (None, 2)                 130       \n",
      "=================================================================\n",
      "Total params: 28,757,122\n",
      "Trainable params: 28,757,122\n",
      "Non-trainable params: 0\n",
      "_________________________________________________________________\n"
     ]
    }
   ],
   "source": [
    "input_shape = data.shape[1:]\n",
    "inp = Input(shape = input_shape)\n",
    "convs = []\n",
    "parallel_kernels = [3,5,7]\n",
    "for k in range(len(parallel_kernels)):\n",
    "    conv = Conv2D(128, parallel_kernels[k], padding = 'same', activation = 'relu', input_shape = input_shape, strides = 1 )(inp)\n",
    "    convs.append(conv)\n",
    "out = Concatenate()(convs)\n",
    "Conv_model = Model(inputs= inp, outputs = out)\n",
    "model = Sequential()\n",
    "model.add(Conv_model)\n",
    "model.add(Conv2D(64, (3,3)))\n",
    "model.add(Activation('relu'))\n",
    "model.add(MaxPooling2D(pool_size = (2,2)))\n",
    "\n",
    "model.add(Flatten())\n",
    "model.add(Dropout(0.5))\n",
    "model.add(Dense(128, activation = 'relu'))\n",
    "model.add(Dropout(0.5))\n",
    "model.add(Dense(64, activation = 'relu'))\n",
    "model.add(Dropout(0.5))\n",
    "model.add(Dense(2, input_dim = 128, activation = 'softmax'))\n",
    "model.compile(loss = 'categorical_crossentropy', optimizer = 'adam', metrics = ['accuracy'])\n",
    "\n",
    "model.summary()\n",
    "\n"
   ]
  },
  {
   "cell_type": "code",
   "execution_count": 26,
   "id": "631429ac",
   "metadata": {},
   "outputs": [],
   "source": [
    "from sklearn.model_selection import train_test_split\n",
    "train_data, test_data, train_target, test_target = train_test_split(data, target, test_size = 0.1)"
   ]
  },
  {
   "cell_type": "code",
   "execution_count": 12,
   "id": "110fe494",
   "metadata": {},
   "outputs": [],
   "source": [
    "from keras.callbacks import ModelCheckpoint"
   ]
  },
  {
   "cell_type": "code",
   "execution_count": 13,
   "id": "b6e5e9cb",
   "metadata": {},
   "outputs": [
    {
     "name": "stdout",
     "output_type": "stream",
     "text": [
      "Epoch 1/20\n",
      "52/52 [==============================] - 343s 7s/step - loss: 0.4253 - accuracy: 0.8448 - val_loss: 0.1584 - val_accuracy: 0.9459\n",
      "INFO:tensorflow:Assets written to: model-00001.model\\assets\n",
      "Epoch 2/20\n",
      "52/52 [==============================] - 331s 6s/step - loss: 0.1905 - accuracy: 0.9374 - val_loss: 0.1689 - val_accuracy: 0.9622\n",
      "Epoch 3/20\n",
      "52/52 [==============================] - 333s 6s/step - loss: 0.1637 - accuracy: 0.9477 - val_loss: 0.0884 - val_accuracy: 0.9622\n",
      "INFO:tensorflow:Assets written to: model-00003.model\\assets\n",
      "Epoch 4/20\n",
      "52/52 [==============================] - 333s 6s/step - loss: 0.1098 - accuracy: 0.9609 - val_loss: 0.0763 - val_accuracy: 0.9784\n",
      "INFO:tensorflow:Assets written to: model-00004.model\\assets\n",
      "Epoch 5/20\n",
      "52/52 [==============================] - 335s 6s/step - loss: 0.0932 - accuracy: 0.9669 - val_loss: 0.0962 - val_accuracy: 0.9784\n",
      "Epoch 6/20\n",
      "52/52 [==============================] - 1395s 27s/step - loss: 0.0967 - accuracy: 0.9735 - val_loss: 0.0807 - val_accuracy: 0.9784\n",
      "Epoch 7/20\n",
      "52/52 [==============================] - 408s 8s/step - loss: 0.1531 - accuracy: 0.9501 - val_loss: 0.1092 - val_accuracy: 0.9730\n",
      "Epoch 8/20\n",
      "52/52 [==============================] - 361s 7s/step - loss: 0.1036 - accuracy: 0.9627 - val_loss: 0.0532 - val_accuracy: 0.9892\n",
      "INFO:tensorflow:Assets written to: model-00008.model\\assets\n",
      "Epoch 9/20\n",
      "52/52 [==============================] - 341s 7s/step - loss: 0.0925 - accuracy: 0.9717 - val_loss: 0.0848 - val_accuracy: 0.9784\n",
      "Epoch 10/20\n",
      "52/52 [==============================] - 343s 7s/step - loss: 0.0914 - accuracy: 0.9645 - val_loss: 0.0953 - val_accuracy: 0.9676\n",
      "Epoch 11/20\n",
      "52/52 [==============================] - 346s 7s/step - loss: 0.3750 - accuracy: 0.9356 - val_loss: 0.2890 - val_accuracy: 0.9459\n",
      "Epoch 12/20\n",
      "52/52 [==============================] - 335s 6s/step - loss: 0.1339 - accuracy: 0.9585 - val_loss: 0.0972 - val_accuracy: 0.9838\n",
      "Epoch 13/20\n",
      "52/52 [==============================] - 337s 6s/step - loss: 0.0896 - accuracy: 0.9669 - val_loss: 0.1087 - val_accuracy: 0.9838\n",
      "Epoch 14/20\n",
      "52/52 [==============================] - 367s 7s/step - loss: 0.0705 - accuracy: 0.9801 - val_loss: 0.1015 - val_accuracy: 0.9676\n",
      "Epoch 15/20\n",
      "52/52 [==============================] - 416s 8s/step - loss: 0.0492 - accuracy: 0.9850 - val_loss: 0.1119 - val_accuracy: 0.9730\n",
      "Epoch 16/20\n",
      "52/52 [==============================] - 407s 8s/step - loss: 0.0440 - accuracy: 0.9838 - val_loss: 0.1263 - val_accuracy: 0.9838\n",
      "Epoch 17/20\n",
      "52/52 [==============================] - 407s 8s/step - loss: 0.0371 - accuracy: 0.9856 - val_loss: 0.0558 - val_accuracy: 0.9892\n",
      "Epoch 18/20\n",
      "52/52 [==============================] - 408s 8s/step - loss: 0.0419 - accuracy: 0.9856 - val_loss: 0.1248 - val_accuracy: 0.9838\n",
      "Epoch 19/20\n",
      "52/52 [==============================] - 405s 8s/step - loss: 0.0288 - accuracy: 0.9880 - val_loss: 0.1499 - val_accuracy: 0.9784\n",
      "Epoch 20/20\n",
      "52/52 [==============================] - 405s 8s/step - loss: 0.0597 - accuracy: 0.9801 - val_loss: 0.0915 - val_accuracy: 0.9730\n"
     ]
    }
   ],
   "source": [
    "import tensorflow as tf\n",
    "\n",
    "\n",
    "\n",
    "cp_callback = tf.keras.callbacks.ModelCheckpoint('model-{epoch:05d}.model',\n",
    "                                                 monitor = 'val_loss',\n",
    "                                                 verbose=0,\n",
    "                                                 save_best_only=True,\n",
    "                                                  mode = 'auto')\n",
    "history = model.fit(train_data, train_target, epochs = 20, callbacks = [cp_callback], validation_split = 0.1)"
   ]
  },
  {
   "cell_type": "code",
   "execution_count": 14,
   "id": "3661427e",
   "metadata": {},
   "outputs": [],
   "source": [
    "import matplotlib.pyplot as plt"
   ]
  },
  {
   "cell_type": "code",
   "execution_count": 15,
   "id": "3a111f73",
   "metadata": {},
   "outputs": [
    {
     "data": {
      "image/png": "[encoded data removed]",
      "text/plain": [
       "<Figure size 432x288 with 1 Axes>"
      ]
     },
     "metadata": {
      "needs_background": "light"
     },
     "output_type": "display_data"
    }
   ],
   "source": [
    "plt.plot(history.history['loss'], 'r', label='training loss')\n",
    "plt.plot(history.history['val_loss'], label = 'validation loss')\n",
    "plt.xlabel('# epochs')\n",
    "plt.ylabel('loss')\n",
    "plt.legend()\n",
    "plt.show()"
   ]
  },
  {
   "cell_type": "code",
   "execution_count": 16,
   "id": "2445482b",
   "metadata": {},
   "outputs": [
    {
     "data": {
      "image/png": "[encoded data removed]",
      "text/plain": [
       "<Figure size 432x288 with 1 Axes>"
      ]
     },
     "metadata": {
      "needs_background": "light"
     },
     "output_type": "display_data"
    }
   ],
   "source": [
    "plt.plot(history.history['accuracy'], 'r', label='training accuracy')\n",
    "plt.plot(history.history['val_accuracy'], label = 'validation accuracy')\n",
    "plt.xlabel('# epochs')\n",
    "plt.ylabel('accuracy')\n",
    "plt.legend()\n",
    "plt.show()"
   ]
  },
  {
   "cell_type": "code",
   "execution_count": 27,
   "id": "1482300c",
   "metadata": {},
   "outputs": [
    {
     "name": "stdout",
     "output_type": "stream",
     "text": [
      "7/7 [==============================] - 9s 1s/step - loss: 0.0636 - accuracy: 0.9806\n"
     ]
    },
    {
     "data": {
      "text/plain": [
       "[0.06357433646917343, 0.9805825352668762]"
      ]
     },
     "execution_count": 27,
     "metadata": {},
     "output_type": "execute_result"
    }
   ],
   "source": [
    "model.evaluate(test_data, test_target)"
   ]
  },
  {
   "cell_type": "code",
   "execution_count": 29,
   "id": "b8649927",
   "metadata": {},
   "outputs": [],
   "source": [
    "new_model = keras.models.load_model('model-00008.model')"
   ]
  },
  {
   "cell_type": "code",
   "execution_count": 30,
   "id": "66c46b2c",
   "metadata": {},
   "outputs": [
    {
     "name": "stdout",
     "output_type": "stream",
     "text": [
      "7/7 [==============================] - 16s 2s/step - loss: 0.0295 - accuracy: 0.9951\n"
     ]
    },
    {
     "data": {
      "text/plain": [
       "[0.02947557158768177, 0.9951456189155579]"
      ]
     },
     "execution_count": 30,
     "metadata": {},
     "output_type": "execute_result"
    }
   ],
   "source": [
    "new_model.evaluate(test_data, test_target)"
   ]
  },
  {
   "cell_type": "code",
   "execution_count": 1,
   "id": "64c78e4f",
   "metadata": {},
   "outputs": [],
   "source": [
    "import pickle"
   ]
  },
  {
   "cell_type": "code",
   "execution_count": 2,
   "id": "63b211a8",
   "metadata": {},
   "outputs": [],
   "source": [
    "import keras"
   ]
  },
  {
   "cell_type": "code",
   "execution_count": 5,
   "id": "d6822608",
   "metadata": {},
   "outputs": [],
   "source": [
    "new_model = keras.models.load_model('model-00008.model')"
   ]
  },
  {
   "cell_type": "code",
   "execution_count": 3,
   "id": "f4c05c1e",
   "metadata": {},
   "outputs": [],
   "source": [
    "pickle.dump('model-00008.model', open('model_final.pkl', 'wb'))"
   ]
  },
  {
   "cell_type": "code",
   "execution_count": null,
   "id": "91d644f9",
   "metadata": {},
   "outputs": [],
   "source": []
  }
 ],
 "metadata": {
  "kernelspec": {
   "display_name": "Python 3",
   "language": "python",
   "name": "python3"
  },
  "language_info": {
   "codemirror_mode": {
    "name": "ipython",
    "version": 3
   },
   "file_extension": ".py",
   "mimetype": "text/x-python",
   "name": "python",
   "nbconvert_exporter": "python",
   "pygments_lexer": "ipython3",
   "version": "3.8.8"
  }
 },
 "nbformat": 4,
 "nbformat_minor": 5
}
